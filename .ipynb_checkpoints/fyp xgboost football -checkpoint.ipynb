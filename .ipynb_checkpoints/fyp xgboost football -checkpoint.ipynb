{
 "cells": [
  {
   "cell_type": "code",
   "execution_count": 2,
   "metadata": {},
   "outputs": [],
   "source": [
    "# setting environment variables - https://www.youtube.com/watch?v=A7E18apPQJs\n",
    "import pandas as pd\n",
    "import numpy as np\n",
    "import scipy.stats as scipy\n",
    "import matplotlib.pyplot as plt\n",
    "import requests #download from football data\n",
    "import io \n",
    "# from __future__ import division\n",
    "import seaborn as sns\n",
    "%matplotlib inline"
   ]
  },
  {
   "cell_type": "code",
   "execution_count": 4,
   "metadata": {},
   "outputs": [],
   "source": [
    "# testfile = urllib.URLopener()\n",
    "# testfile.retrieve(\"http://www.football-data.co.uk/mmz4281/1617/E0.csv\", \"./Data/England/E0_16.csv\")\n",
    "\n",
    "url = \"http://www.football-data.co.uk/mmz4281/1617/E0.csv\"\n",
    "\n",
    "testfile = requests.get(url).content\n",
    "df=pd.read_csv(io.StringIO(testfile.decode('utf-8')))\n",
    "df.to_csv(\"./Data/E0_16.csv\")"
   ]
  },
  {
   "cell_type": "code",
   "execution_count": null,
   "metadata": {},
   "outputs": [],
   "source": []
  }
 ],
 "metadata": {
  "kernelspec": {
   "display_name": "Python 3",
   "language": "python",
   "name": "python3"
  },
  "language_info": {
   "codemirror_mode": {
    "name": "ipython",
    "version": 3
   },
   "file_extension": ".py",
   "mimetype": "text/x-python",
   "name": "python",
   "nbconvert_exporter": "python",
   "pygments_lexer": "ipython3",
   "version": "3.6.6"
  }
 },
 "nbformat": 4,
 "nbformat_minor": 2
}
